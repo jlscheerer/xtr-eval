{
 "cells": [
  {
   "cell_type": "code",
   "execution_count": 1,
   "id": "74128ad5-8f01-4bc7-a4b9-235d2797c054",
   "metadata": {},
   "outputs": [],
   "source": [
    "import os\n",
    "# Enforces CPU-only execution of torch\n",
    "os.environ[\"CUDA_VISIBLE_DEVICES\"] = \"\"\n",
    "\n",
    "# Configure environment to ensure single-threaded execution.\n",
    "os.environ[\"MKL_NUM_THREADS\"] = \"1\"\n",
    "os.environ[\"NUMEXPR_NUM_THREADS\"]= \"1\"\n",
    "os.environ[\"OMP_NUM_THREADS\"] = \"1\"\n",
    "\n",
    "import torch\n",
    "torch.set_num_threads(1)"
   ]
  },
  {
   "cell_type": "code",
   "execution_count": 2,
   "id": "224dc3ca-c786-43d7-980d-1fe50ef9cdb1",
   "metadata": {},
   "outputs": [
    {
     "name": "stderr",
     "output_type": "stream",
     "text": [
      "/future/u/scheerer/miniconda3/envs/xtr-eval/lib/python3.8/site-packages/beir/util.py:2: TqdmExperimentalWarning: Using `tqdm.autonotebook.tqdm` in notebook mode. Use `tqdm.tqdm` instead to force console mode (e.g. in jupyter console)\n",
      "  from tqdm.autonotebook import tqdm\n"
     ]
    }
   ],
   "source": [
    "from xtr.datasets import BEIR, BEIRDataset\n",
    "from xtr.config import XTRConfig, XTRModel, XTRScaNNIndexConfig\n",
    "from xtr.utils import canonical_index_name\n",
    "from xtr.modeling.xtr import XTR"
   ]
  },
  {
   "cell_type": "code",
   "execution_count": 3,
   "id": "dd3dc458-6d8a-4782-8bde-4f05a4fe7d57",
   "metadata": {},
   "outputs": [],
   "source": [
    "dataset = BEIRDataset(dataset=BEIR.SCIFACT, datasplit=\"test\")\n",
    "index_config = XTRScaNNIndexConfig()\n",
    "index_name = canonical_index_name(dataset=dataset, index_config=index_config)\n",
    "config = XTRConfig(index_name=index_name, model=XTRModel.BASE_EN, index_config=index_config, override=False)"
   ]
  },
  {
   "cell_type": "code",
   "execution_count": 4,
   "id": "04e877a1-8e30-4b47-9b2f-106aef69d471",
   "metadata": {},
   "outputs": [
    {
     "data": {
      "application/vnd.jupyter.widget-view+json": {
       "model_id": "8a96da99fa0b498caad3f91ef0bfe61b",
       "version_major": 2,
       "version_minor": 0
      },
      "text/plain": [
       "  0%|          | 0/5183 [00:00<?, ?it/s]"
      ]
     },
     "metadata": {},
     "output_type": "display_data"
    },
    {
     "name": "stdout",
     "output_type": "stream",
     "text": [
      "#> Preparing corpus for BEIR BEIR.SCIFACT/test\n"
     ]
    },
    {
     "name": "stderr",
     "output_type": "stream",
     "text": [
      "100%|█████████████████████████████████████████████████████████████████████████████████████████████████████████████████████████| 5183/5183 [00:00<00:00, 354495.43it/s]\n"
     ]
    },
    {
     "name": "stdout",
     "output_type": "stream",
     "text": [
      "Loading existing index from /future/u/scheerer/home/data/xtr-eval/indexes/BEIR.SCIFACT.split=test.XTRIndexType.SCANN.\n"
     ]
    },
    {
     "name": "stderr",
     "output_type": "stream",
     "text": [
      "[libprotobuf WARNING external/com_google_protobuf/src/google/protobuf/text_format.cc:339] Warning parsing text-format research_scann.ScannConfig: 38:5: text format contains deprecated field \"min_cluster_size\"\n"
     ]
    }
   ],
   "source": [
    "xtr = XTR(config=config, collection=dataset.collection, device=torch.device(\"cpu\"))"
   ]
  },
  {
   "cell_type": "code",
   "execution_count": 9,
   "id": "3e9b5f4d-dc49-47d7-9640-3494016f18b7",
   "metadata": {},
   "outputs": [
    {
     "name": "stderr",
     "output_type": "stream",
     "text": [
      "100%|███████████████████████████████████████████████████████████████████████████████████████████████████████████████████████████████| 300/300 [01:04<00:00,  4.63it/s]\n"
     ]
    }
   ],
   "source": [
    "rankings = xtr.retrieve_docs(dataset.queries, document_top_k=100, token_top_k=1000)"
   ]
  },
  {
   "cell_type": "code",
   "execution_count": 10,
   "id": "df3135a6-54e3-433d-8afb-e4e129f1d473",
   "metadata": {},
   "outputs": [
    {
     "name": "stdout",
     "output_type": "stream",
     "text": [
      "[Result]\n",
      "ndcg_cut@5: 0.6898\n",
      "ndcg_cut@10: 0.7145\n",
      "ndcg_cut@50: 0.7305\n",
      "ndcg_cut@100: 0.7347\n",
      "map_cut@5: 0.6583\n",
      "map_cut@10: 0.6707\n",
      "map_cut@50: 0.6745\n",
      "map_cut@100: 0.6749\n",
      "recall@5: 0.7648\n",
      "recall@10: 0.8363\n",
      "recall@50: 0.9043\n",
      "recall@100: 0.9310\n"
     ]
    }
   ],
   "source": [
    "dataset.eval(rankings)"
   ]
  }
 ],
 "metadata": {
  "kernelspec": {
   "display_name": "Python 3 (ipykernel)",
   "language": "python",
   "name": "python3"
  },
  "language_info": {
   "codemirror_mode": {
    "name": "ipython",
    "version": 3
   },
   "file_extension": ".py",
   "mimetype": "text/x-python",
   "name": "python",
   "nbconvert_exporter": "python",
   "pygments_lexer": "ipython3",
   "version": "3.8.19"
  }
 },
 "nbformat": 4,
 "nbformat_minor": 5
}
