{
 "cells": [
  {
   "cell_type": "code",
   "execution_count": 1,
   "id": "74128ad5-8f01-4bc7-a4b9-235d2797c054",
   "metadata": {},
   "outputs": [],
   "source": [
    "import os\n",
    "# Enforces CPU-only execution of torch\n",
    "os.environ[\"CUDA_VISIBLE_DEVICES\"] = \"\"\n",
    "\n",
    "# Configure environment to ensure single-threaded execution.\n",
    "os.environ[\"MKL_NUM_THREADS\"] = \"1\"\n",
    "os.environ[\"NUMEXPR_NUM_THREADS\"]= \"1\"\n",
    "os.environ[\"OMP_NUM_THREADS\"] = \"1\"\n",
    "\n",
    "import torch\n",
    "torch.set_num_threads(1)"
   ]
  },
  {
   "cell_type": "code",
   "execution_count": 34,
   "id": "224dc3ca-c786-43d7-980d-1fe50ef9cdb1",
   "metadata": {},
   "outputs": [],
   "source": [
    "from xtr.datasets import BEIR, BEIRDataset, LoTTE, LoTTEDataset\n",
    "from xtr.config import XTRConfig, XTRModel, XTRScaNNIndexConfig, XTRBruteForceIndexConfig, XTRFAISSIndexConfig\n",
    "from xtr.utils import xtr_tracker, canonical_index_name\n",
    "from xtr.modeling.xtr import XTR\n",
    "\n",
    "import json"
   ]
  },
  {
   "cell_type": "code",
   "execution_count": 18,
   "id": "8a664668-0b1a-48f9-ac2a-f502da908dfe",
   "metadata": {},
   "outputs": [],
   "source": [
    "def xtr_eval_latency(dataset, index_config, document_top_k, token_top_k):\n",
    "    index_name = canonical_index_name(dataset=dataset, index_config=index_config)\n",
    "    config = XTRConfig(index_name=index_name, model=XTRModel.BASE_EN, index_config=index_config, override=False)\n",
    "    xtr = XTR(config=config, collection=dataset.collection, device=torch.device(\"cpu\"))\n",
    "    tracker = xtr_tracker(name=index_name)\n",
    "    rankings = xtr.retrieve_docs(dataset.queries, document_top_k=document_top_k, token_top_k=token_top_k, tracker=tracker)\n",
    "    return tracker, dataset.eval(rankings)"
   ]
  },
  {
   "cell_type": "code",
   "execution_count": 29,
   "id": "8abc5fdd-d8ff-47d2-919d-7c869d55047f",
   "metadata": {},
   "outputs": [],
   "source": [
    "def xtr_run_configuration(dataset, index_config, document_top_k, token_top_k):\n",
    "    tracker, metrics = xtr_eval_latency(dataset, index_config, document_top_k, token_top_k)\n",
    "    configuration = {\"dataset\": dataset.name, \"index\": index_config.name,\n",
    "                     \"document_top_k\": document_top_k, \"token_top_k\": token_top_k}\n",
    "    return {\n",
    "        \"config\": configuration,\n",
    "        \"metrics\": metrics,\n",
    "        \"tracker\": tracker.as_dict()\n",
    "    }"
   ]
  },
  {
   "cell_type": "code",
   "execution_count": 32,
   "id": "566b59a3-2793-4b73-bf6e-c43c3cef5d97",
   "metadata": {},
   "outputs": [],
   "source": [
    "def xtr_run_configurations(datasets, index_configs, document_top_k, token_top_k_values, override=False):\n",
    "    if os.path.exists(\"results.json\") and not override:\n",
    "        raise AssertionError\n",
    "    results = []\n",
    "    for dataset in datasets:\n",
    "        for index_config in index_configs:\n",
    "            for token_top_k in token_top_k_values:\n",
    "                results.append(xtr_run_configuration(dataset, index_config, document_top_k=document_top_k, token_top_k=token_top_k))\n",
    "                with open(\"results.json\", \"w\") as file:\n",
    "                    json.dump(results, file)"
   ]
  },
  {
   "cell_type": "code",
   "execution_count": 36,
   "id": "ba94ef34-7f3b-4516-b040-159f9a34016d",
   "metadata": {},
   "outputs": [
    {
     "name": "stdout",
     "output_type": "stream",
     "text": [
      "#> Loading collection from /lfs/1/scheerer/datasets/lotte/lotte/lifestyle/test/collection.tsv ...\n",
      "0M \n",
      "#> Loading the queries from /lfs/1/scheerer/datasets/lotte/lotte/lifestyle/test/questions.search.tsv ...\n",
      "#> Got 661 queries. All QIDs are unique.\n",
      "Loading existing index from /future/u/scheerer/home/data/xtr-eval/indexes/LoTTE.LIFESTYLE.search.split=test.XTRIndexType.SCANN.\n"
     ]
    },
    {
     "name": "stderr",
     "output_type": "stream",
     "text": [
      "[libprotobuf WARNING external/com_google_protobuf/src/google/protobuf/text_format.cc:339] Warning parsing text-format research_scann.ScannConfig: 38:5: text format contains deprecated field \"min_cluster_size\"\n",
      "100%|███████████████████████████████████████████████████████████████████████████████████████████████████████████████████████████████| 661/661 [02:21<00:00,  4.67it/s]\n"
     ]
    },
    {
     "name": "stdout",
     "output_type": "stream",
     "text": [
      "Loading existing index from /future/u/scheerer/home/data/xtr-eval/indexes/LoTTE.LIFESTYLE.search.split=test.XTRIndexType.SCANN.\n"
     ]
    },
    {
     "name": "stderr",
     "output_type": "stream",
     "text": [
      "[libprotobuf WARNING external/com_google_protobuf/src/google/protobuf/text_format.cc:339] Warning parsing text-format research_scann.ScannConfig: 38:5: text format contains deprecated field \"min_cluster_size\"\n",
      "100%|███████████████████████████████████████████████████████████████████████████████████████████████████████████████████████████████| 661/661 [21:24<00:00,  1.94s/it]\n"
     ]
    },
    {
     "name": "stdout",
     "output_type": "stream",
     "text": [
      "Loading existing index from /future/u/scheerer/home/data/xtr-eval/indexes/LoTTE.LIFESTYLE.search.split=test.XTRIndexType.FAISS.\n"
     ]
    },
    {
     "name": "stderr",
     "output_type": "stream",
     "text": [
      "100%|███████████████████████████████████████████████████████████████████████████████████████████████████████████████████████████████| 661/661 [12:01<00:00,  1.09s/it]\n"
     ]
    },
    {
     "name": "stdout",
     "output_type": "stream",
     "text": [
      "Loading existing index from /future/u/scheerer/home/data/xtr-eval/indexes/LoTTE.LIFESTYLE.search.split=test.XTRIndexType.FAISS.\n"
     ]
    },
    {
     "name": "stderr",
     "output_type": "stream",
     "text": [
      "100%|███████████████████████████████████████████████████████████████████████████████████████████████████████████████████████████████| 661/661 [27:03<00:00,  2.46s/it]\n"
     ]
    }
   ],
   "source": [
    "DATASETS = [LoTTEDataset(dataset=LoTTE.LIFESTYLE, datasplit=\"test\")]\n",
    "INDEX_CONFIGS = [XTRScaNNIndexConfig(), XTRFAISSIndexConfig()]\n",
    "TOKEN_TOP_K_VALUES = [1_000, 40_000]\n",
    "xtr_run_configurations(datasets=DATASETS, index_configs=INDEX_CONFIGS,\n",
    "                       document_top_k=100, token_top_k_values=TOKEN_TOP_K_VALUES)"
   ]
  }
 ],
 "metadata": {
  "kernelspec": {
   "display_name": "Python 3 (ipykernel)",
   "language": "python",
   "name": "python3"
  },
  "language_info": {
   "codemirror_mode": {
    "name": "ipython",
    "version": 3
   },
   "file_extension": ".py",
   "mimetype": "text/x-python",
   "name": "python",
   "nbconvert_exporter": "python",
   "pygments_lexer": "ipython3",
   "version": "3.8.19"
  }
 },
 "nbformat": 4,
 "nbformat_minor": 5
}
